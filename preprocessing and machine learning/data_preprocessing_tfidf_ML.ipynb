{
 "cells": [
  {
   "cell_type": "code",
   "execution_count": 8,
   "metadata": {},
   "outputs": [],
   "source": [
    "import numpy as np\n",
    "import pandas as pd\n",
    "import json\n",
    "from dateutil import parser\n",
    "import re\n",
    "from sklearn.feature_extraction.text import TfidfVectorizer\n",
    "from sklearn.model_selection import train_test_split\n",
    "from sklearn.metrics import f1_score\n",
    "from sklearn.naive_bayes import MultinomialNB"
   ]
  },
  {
   "cell_type": "code",
   "execution_count": 9,
   "metadata": {},
   "outputs": [],
   "source": [
    "with open('../data/Final.json') as json_file:  \n",
    "    data = json.load(json_file)"
   ]
  },
  {
   "cell_type": "code",
   "execution_count": 10,
   "metadata": {},
   "outputs": [],
   "source": [
    "old_tags = []\n",
    "for key in ['CALSTATE', 'CALTECH', 'USC', 'UCLA']:\n",
    "    for record in data[key]:\n",
    "        old_tags += record['tags']"
   ]
  },
  {
   "cell_type": "code",
   "execution_count": 11,
   "metadata": {},
   "outputs": [],
   "source": [
    "new_tags = {u' Careers / Career Center': 'Career',\n",
    " u' Commencement': 'Social',\n",
    " u' Commencement / East Asian Studies Center (EASC)': 'Social',\n",
    " u' Commencement / LGBTQ Resource Center': 'Social',\n",
    " u' Conference/Symposia': 'Lecture_Talk_Workshop',\n",
    " u' Conference/Symposia / AMP SoCal': 'Lecture_Talk_Workshop',\n",
    " u' Conference/Symposia / Early Modern Studies Institute (EMSI) ': 'Lecture_Talk_Workshop',\n",
    " u' Conference/Symposia / History': 'Lecture_Talk_Workshop',\n",
    " u' Dance/Theater': 'Dance_Theatre_Film',\n",
    " u' Dance/Theater / School of Dramatic Arts': 'Dance_Theatre_Film',\n",
    " u' Event Highlights': 'Lecture_Talk_Workshop',\n",
    " u' Event Highlights / Annenberg Special Events': 'Lecture_Talk_Workshop',\n",
    " u' Event Highlights / Dornsife Office of Communication': 'Lecture_Talk_Workshop',\n",
    " u' Event Highlights / Institute for Armenian Studies': 'Lecture_Talk_Workshop',\n",
    " u' Event Highlights / Mathematics': 'Lecture_Talk_Workshop',\n",
    " u' Event Highlights / Neuroscience Graduate Program / Viterbi School of Engineering': 'Lecture_Talk_Workshop',\n",
    " u' Event Highlights / Rossier School of Education': 'Lecture_Talk_Workshop',\n",
    " u' Event Highlights / Thornton School of Music': 'Lecture_Talk_Workshop',\n",
    " u' Event Highlights / USC Libraries / Writing Center': 'Lecture_Talk_Workshop',\n",
    " u' Exhibit': 'Social',\n",
    " u' Exhibit / USC Libraries': 'Social',\n",
    " u' Film Screening': 'Dance_Theatre_Film',\n",
    " u' Film Screening / Comparative Literature (COLT) / Latin American and Iberian Cultures': 'Dance_Theatre_Film',\n",
    " u' Film Screening / German Studies Program': 'Dance_Theatre_Film',\n",
    " u' Film Screening / Jesse M. Unruh Institute of Politics': 'Dance_Theatre_Film',\n",
    " u' Free Food': 'Social',\n",
    " u' Free Food / English ': 'Social',\n",
    " u' Free Food / Office of International Services': 'Social',\n",
    " u' Free Food / Office of Religious Life': 'Social',\n",
    " u' Free Food / Rossier School of Education': 'Social',\n",
    " u' Free Food / School of Pharmacy': 'Social',\n",
    " u' Free Food / Thematic Option': 'Social',\n",
    " u' Lecture / Talk / Workshop': 'Lecture_Talk_Workshop',\n",
    " u' Lecture / Talk / Workshop / Anthropology': 'Lecture_Talk_Workshop',\n",
    " u' Lecture / Talk / Workshop / Creative Writing & Literature': 'Lecture_Talk_Workshop',\n",
    " u' Lecture / Talk / Workshop / Pacific Asia Museum': 'Lecture_Talk_Workshop',\n",
    " u' Music': 'Music',\n",
    " u' Music / Early Modern Studies Institute (EMSI) ': 'Music',\n",
    " u' Music / History': 'Music',\n",
    " u' Music / Thornton School of Music': 'Music',\n",
    " u' Music / Thornton Student Recitals': 'Music',\n",
    " u' Reception': 'Student',\n",
    " u' Reception / East Asian Studies Center (EASC)': 'Student',\n",
    " u' Student Life': 'Student',\n",
    " u' Student Life / East Asian Studies Center (EASC)': 'Student',\n",
    " u' Student Life / Engemann Student Health Center' : 'Wellness',\n",
    " u' Student Life / Visions and Voices: The Arts and Humanities Initiative': 'Student',\n",
    " u'App - ResX': 'Social',\n",
    " u'Arts': 'Art',\n",
    " u'Arts / Pacific Asia Museum': 'Art',\n",
    " u'Biokinesiology and Physical Therapy': 'Lecture_Talk_Workshop',\n",
    " u'Building Wide Event': 'Lecture_Talk_Workshop',\n",
    " u'Career': 'Career',\n",
    " u'Career and Professional': 'Career',\n",
    " u'Careers': 'Career',\n",
    " u'Careers / Career Center': 'Career',\n",
    " u'Commencement': 'Social',\n",
    " u'Commencement / Biokinesiology and Physical Therapy': 'Social',\n",
    " u'Commencement / Mrs. T.H. Chan Division of Occupational Science and Occupational Therapy': 'Social',\n",
    " u'Commencement / School of Pharmacy': 'Social',\n",
    " u'Community Council': 'Social',\n",
    " u'Conference/Symposia': 'Lecture_Talk_Workshop',\n",
    " u'Conference/Symposia / AMP SoCal': 'Lecture_Talk_Workshop',\n",
    " u'Conference/Symposia / Biokinesiology and Physical Therapy': 'Lecture_Talk_Workshop',\n",
    " u'Conference/Symposia / Department of Economics': 'Lecture_Talk_Workshop',\n",
    " u'Conference/Symposia / History': 'Lecture_Talk_Workshop',\n",
    " u'Conference/Symposia / Keck School of Medicine': 'Lecture_Talk_Workshop',\n",
    " u'Conference/Symposia / Korean Studies Institute (KSI)': 'Lecture_Talk_Workshop',\n",
    " u'Conference/Symposia / Marshall School of Business': 'Lecture_Talk_Workshop',\n",
    " u'Conference/Symposia / Preventive Medicine': 'Lecture_Talk_Workshop',\n",
    " u'Conference/Symposia / Price School of Public Policy': 'Lecture_Talk_Workshop',\n",
    " u'Conference/Symposia / Stem Cell at USC': 'Lecture_Talk_Workshop',\n",
    " u'Conference/Symposia / Stevens Center for Innovation': 'Lecture_Talk_Workshop',\n",
    " u'Conference/Symposia / Thematic Option': 'Lecture_Talk_Workshop',\n",
    " u'Conferences, Lectures, & Seminars': 'Lecture_Talk_Workshop',\n",
    " u'Free Food': 'Social',\n",
    " u'Free Food / Office of Religious Life': 'Social',\n",
    " u'Language Center': 'Student',\n",
    " u\"Late Night 'SC\": 'Social',\n",
    " u'Lecture / Talk / Workshop': 'Lecture_Talk_Workshop',\n",
    " u'Lecture / Talk / Workshop / AMP SoCal': 'Lecture_Talk_Workshop',\n",
    " u'Lecture / Talk / Workshop / Anthropology': 'Lecture_Talk_Workshop',\n",
    " u'Lecture / Talk / Workshop / Biokinesiology and Physical Therapy': 'Lecture_Talk_Workshop',\n",
    " u'Lecture / Talk / Workshop / Campus Activities': 'Lecture_Talk_Workshop',\n",
    " u'Lecture / Talk / Workshop / Center for Craniofacial Molecular Biology': 'Lecture_Talk_Workshop',\n",
    " u'Lecture / Talk / Workshop / Department of Chemistry': 'Lecture_Talk_Workshop',\n",
    " u'Lecture / Talk / Workshop / Emeriti Center': 'Lecture_Talk_Workshop',\n",
    " u'Lecture / Talk / Workshop / Gould School of Law': 'Lecture_Talk_Workshop',\n",
    " u'Lecture / Talk / Workshop / History': 'Lecture_Talk_Workshop',\n",
    " u'Lecture / Talk / Workshop / History / Institute on California and the West (ICW) ': 'Lecture_Talk_Workshop',\n",
    " u'Lecture / Talk / Workshop / Keck School of Medicine': 'Lecture_Talk_Workshop',\n",
    " u'Lecture / Talk / Workshop / Korean Studies Institute (KSI)': 'Lecture_Talk_Workshop',\n",
    " u'Lecture / Talk / Workshop / LGBTQ Resource Center': 'Lecture_Talk_Workshop',\n",
    " u'Lecture / Talk / Workshop / Levan Institute for Humanities and Ethics': 'Lecture_Talk_Workshop',\n",
    " u'Lecture / Talk / Workshop / Mathematics': 'Lecture_Talk_Workshop',\n",
    " u'Lecture / Talk / Workshop / Molecular and Computational Biology (MCB)': 'Lecture_Talk_Workshop',\n",
    " u'Lecture / Talk / Workshop / Neuroscience Graduate Program': 'Lecture_Talk_Workshop',\n",
    " u'Lecture / Talk / Workshop / Office of Religious Life': 'Lecture_Talk_Workshop',\n",
    " u'Lecture / Talk / Workshop / Office of Research': 'Lecture_Talk_Workshop',\n",
    " u'Lecture / Talk / Workshop / Pacific Asia Museum': 'Lecture_Talk_Workshop',\n",
    " u'Lecture / Talk / Workshop / Preventive Medicine': 'Lecture_Talk_Workshop',\n",
    " u'Lecture / Talk / Workshop / Price School of Public Policy': 'Lecture_Talk_Workshop',\n",
    " u'Lecture / Talk / Workshop / Psychology': 'Lecture_Talk_Workshop',\n",
    " u'Lecture / Talk / Workshop / Rossier School of Education': 'Lecture_Talk_Workshop',\n",
    " u'Lecture / Talk / Workshop / Shinso Ito Center for Japanese Religions and Culture': 'Lecture_Talk_Workshop',\n",
    " u'Lecture / Talk / Workshop / Stem Cell at USC': 'Lecture_Talk_Workshop',\n",
    " u'Lecture / Talk / Workshop / USC Dornsife Institute for New Economic Thinking (INET)': 'Lecture_Talk_Workshop',\n",
    " u'Lecture / Talk / Workshop / Visions and Voices: The Arts and Humanities Initiative / Jesse M. Unruh Institute of Politics / Political Science': 'Lecture_Talk_Workshop',\n",
    " u'Lecture / Talk / Workshop / Visual Studies Research Institute (VSRI)': 'Lecture_Talk_Workshop',\n",
    " u'Mrs. T.H. Chan Division of Occupational Science and Occupational Therapy': 'Student',\n",
    " u'Norris Medical Library': 'Wellness',\n",
    " u'Off-Campus': 'Social',\n",
    " u'Office of Religious Life': 'Social',\n",
    " u'RA Floor Program': 'Student',\n",
    " u'Reception': 'Student',\n",
    " u'Reception / East Asian Studies Center (EASC)': 'Student',\n",
    " u'Reception / Korean Studies Institute (KSI)': 'Student',\n",
    " u'Reception / Price School of Public Policy': 'Student',\n",
    " u'Reception / School of Pharmacy': 'Student',\n",
    " u'Reception / USC Libraries': 'Student',\n",
    " u'Receptions & Special Events': 'Student',\n",
    " u'Rossier School of Education': 'Student',\n",
    " u'Service': 'Student',\n",
    " u'Social': 'Social',\n",
    " u'Student Activity': 'Student',\n",
    " u'Student Life': 'Student',\n",
    " u'Student Life / Dentistry': 'Student',\n",
    " u'Student Life / Engemann Student Health Center': 'Wellness',\n",
    " u'Student Life / Eric Cohen Health Center': 'Wellness',\n",
    " u'Student Life / Office of International Services': 'Student',\n",
    " u'Student Life / Office of Religious Life': 'Student',\n",
    " u'Student Life / School of Pharmacy': 'Student',\n",
    " u'Thornton Student Recitals': 'Music',\n",
    " u'University Calendar': 'Social',\n",
    " u'Visions and Voices: The Arts and Humanities Initiative': 'Dance_Theatre_Film',\n",
    " u'Wellness': 'Wellness',\n",
    " u'Workshops & Infosessions': 'Lecture_Talk_Workshop',\n",
    " u'alumni': 'Alumni',\n",
    " u'art': 'Art',\n",
    " u'lectures, readings, symposia': 'Lecture_Talk_Workshop',\n",
    " u'music': 'Music',\n",
    " u'special event': 'Social',\n",
    " u'student': 'Social',\n",
    " u'training and workshops': 'Lecture_Talk_Workshop',\n",
    " u'video and film': 'Dance_Theatre_Film'}"
   ]
  },
  {
   "cell_type": "code",
   "execution_count": 12,
   "metadata": {},
   "outputs": [],
   "source": [
    "old_tags = []\n",
    "for key in ['CALSTATE', 'CALTECH', 'USC', 'UCLA']:\n",
    "    for i, record in enumerate(data[key]):\n",
    "        if data[key][i]['tags']:\n",
    "            if data[key][i]['tags'] == ['']:\n",
    "                data[key][i]['tags'] = []\n",
    "            data[key][i]['tags'] = list(set(map(lambda x: new_tags[x], data[key][i]['tags'])))"
   ]
  },
  {
   "cell_type": "code",
   "execution_count": 13,
   "metadata": {},
   "outputs": [],
   "source": [
    "new_tags = []\n",
    "for key in ['CALSTATE', 'CALTECH', 'USC', 'UCLA']:\n",
    "    for record in data[key]:\n",
    "        new_tags += record['tags']"
   ]
  },
  {
   "cell_type": "code",
   "execution_count": 14,
   "metadata": {},
   "outputs": [
    {
     "data": {
      "text/plain": [
       "{'Alumni',\n",
       " 'Art',\n",
       " 'Career',\n",
       " 'Dance_Theatre_Film',\n",
       " 'Lecture_Talk_Workshop',\n",
       " 'Music',\n",
       " 'Social',\n",
       " 'Student',\n",
       " 'Wellness'}"
      ]
     },
     "execution_count": 14,
     "metadata": {},
     "output_type": "execute_result"
    }
   ],
   "source": [
    "set(new_tags)"
   ]
  },
  {
   "cell_type": "code",
   "execution_count": 15,
   "metadata": {},
   "outputs": [],
   "source": [
    "#Preprocessing DATE and TIME\n",
    "new_tags = []\n",
    "for key in ['CALSTATE', 'CALTECH', 'USC', 'UCLA']:\n",
    "    for i, record in enumerate(data[key]):\n",
    "        #time\n",
    "        if data[key][i]['date_time'].get('time'):\n",
    "            data[key][i]['date_time']['time'] = data[key][i]['date_time']['time'].replace(' ', '').lower()\n",
    "            if data[key][i]['date_time']['time'].count(':') == 2:\n",
    "                _time = data[key][i]['date_time']['time'].split(':')\n",
    "                hour = int(_time[0])\n",
    "                minute = _time[1]\n",
    "                if hour == 0:\n",
    "                    data[key][i]['date_time']['time'] = '{}:{}{}'.format('12', minute, 'am')\n",
    "                elif hour == 12:\n",
    "                    data[key][i]['date_time']['time'] = '{}:{}{}'.format('12', minute, 'pm')\n",
    "                elif hour > 12:\n",
    "                    data[key][i]['date_time']['time'] = '{}:{}{}'.format(hour%12, minute, 'pm')\n",
    "                else:\n",
    "                    data[key][i]['date_time']['time'] = '{}:{}{}'.format(hour, minute, 'am')\n",
    "            if data[key][i]['date_time']['time'] == 'allday':\n",
    "                data[key][i]['date_time']['time'] = 'NA'\n",
    "            if data[key][i]['date_time']['time'].startswith('0'):\n",
    "                data[key][i]['date_time']['time'] = data[key][i]['date_time']['time'][1:]\n",
    "            if data[key][i]['date_time']['time'].startswith('urday'):\n",
    "                s = data[key][i]['date_time']['time']\n",
    "                month = re.search(pattern=',([a-z]+)([0-9]+)', string=s).group(1).capitalize()\n",
    "                _date = re.search(pattern=',([a-z]+)([0-9]+)', string=s).group(2)\n",
    "                data[key][i]['date_time']['date'] = 'Saturday, {} {}'.format(month, _date)\n",
    "                data[key][i]['date_time']['time'] = 'NA'\n",
    "        else:\n",
    "            data[key][i]['date_time']['time'] = 'NA'\n",
    "        #date\n",
    "        data[key][i]['date_time']['date'] = str(parser.parse(data[key][i]['date_time']['date']).date())\n",
    "        #tags\n",
    "        if len(data[key][i]['tags']) > 0:\n",
    "            data[key][i]['tags'] = data[key][i]['tags'][0]\n",
    "        else:\n",
    "            data[key][i]['tags'] = 'NA'"
   ]
  },
  {
   "cell_type": "code",
   "execution_count": 16,
   "metadata": {},
   "outputs": [],
   "source": [
    "for key in ['CALSTATE', 'CALTECH', 'USC', 'UCLA']:\n",
    "    for i, record in enumerate(data[key]):\n",
    "        data[key][i][u'univ'] = key"
   ]
  },
  {
   "cell_type": "code",
   "execution_count": 17,
   "metadata": {},
   "outputs": [],
   "source": [
    "final_data = []\n",
    "for key in ['CALSTATE', 'CALTECH', 'USC', 'UCLA']:\n",
    "    final_data += data[key]"
   ]
  },
  {
   "cell_type": "code",
   "execution_count": 18,
   "metadata": {},
   "outputs": [],
   "source": [
    "for i, record in enumerate(final_data):\n",
    "    final_data[i][u'id'] = i+1"
   ]
  },
  {
   "cell_type": "code",
   "execution_count": 19,
   "metadata": {},
   "outputs": [],
   "source": [
    "train = [(data['id'], (data['title'] + '. ' + data['description']).strip(), data['tags']) for data in final_data if data['tags'] != 'NA']\n",
    "pred = [(data['id'], (data['title'] + '. ' + data['description']).strip(), data['tags']) for data in final_data if data['tags'] == 'NA']"
   ]
  },
  {
   "cell_type": "code",
   "execution_count": 20,
   "metadata": {},
   "outputs": [
    {
     "data": {
      "text/plain": [
       "(771, 502)"
      ]
     },
     "execution_count": 20,
     "metadata": {},
     "output_type": "execute_result"
    }
   ],
   "source": [
    "len(train), len(pred)"
   ]
  },
  {
   "cell_type": "code",
   "execution_count": 21,
   "metadata": {},
   "outputs": [],
   "source": [
    "train = pd.DataFrame(train, columns=['id', 'desc', 'tags'])\n",
    "pred = pd.DataFrame(pred, columns=['id', 'desc', 'tags'])"
   ]
  },
  {
   "cell_type": "markdown",
   "metadata": {},
   "source": [
    "### Training and Validation on TFIDF vectors"
   ]
  },
  {
   "cell_type": "code",
   "execution_count": 22,
   "metadata": {},
   "outputs": [],
   "source": [
    "text = pd.concat([train['desc'], pred['desc']]).reset_index(drop=True)"
   ]
  },
  {
   "cell_type": "code",
   "execution_count": 23,
   "metadata": {},
   "outputs": [],
   "source": [
    "tfidf = TfidfVectorizer(\n",
    "    sublinear_tf=True,\n",
    "    strip_accents='unicode',\n",
    "    analyzer='word',\n",
    "    token_pattern=r'[a-z]{3,}',\n",
    "    stop_words='english',\n",
    "    ngram_range=(1, 2),\n",
    "    max_df = 500,\n",
    "    max_features=1000)\n",
    "\n",
    "tfidf.fit(text)\n",
    "train_features = tfidf.transform(train['desc'])"
   ]
  },
  {
   "cell_type": "code",
   "execution_count": 24,
   "metadata": {},
   "outputs": [],
   "source": [
    "X_train, X_val, y_train, y_val = train_test_split(train_features.toarray(), train['tags'], test_size=0.2, random_state=0)"
   ]
  },
  {
   "cell_type": "code",
   "execution_count": 25,
   "metadata": {},
   "outputs": [],
   "source": [
    "model = MultinomialNB()\n",
    "model.fit(X_train, y_train)\n",
    "prediction = model.predict(X_val)\n",
    "actual = y_val"
   ]
  },
  {
   "cell_type": "code",
   "execution_count": 27,
   "metadata": {
    "scrolled": true
   },
   "outputs": [
    {
     "name": "stdout",
     "output_type": "stream",
     "text": [
      "Weighted F1 score = 0.783747665877\n"
     ]
    }
   ],
   "source": [
    "print(\"Weighted F1 score = {}\".format(f1_score(actual, prediction, average='weighted')))"
   ]
  },
  {
   "cell_type": "markdown",
   "metadata": {},
   "source": [
    "### Predictions"
   ]
  },
  {
   "cell_type": "code",
   "execution_count": 28,
   "metadata": {},
   "outputs": [],
   "source": [
    "pred_features = tfidf.transform(pred['desc'])"
   ]
  },
  {
   "cell_type": "code",
   "execution_count": 29,
   "metadata": {},
   "outputs": [],
   "source": [
    "predictions = model.predict(pred_features.toarray())"
   ]
  },
  {
   "cell_type": "code",
   "execution_count": 30,
   "metadata": {},
   "outputs": [],
   "source": [
    "pred['tags'] = predictions"
   ]
  },
  {
   "cell_type": "code",
   "execution_count": 31,
   "metadata": {},
   "outputs": [],
   "source": [
    "d = {}\n",
    "for val in pred.values:\n",
    "    d[val[0]] = val[-1]"
   ]
  },
  {
   "cell_type": "code",
   "execution_count": 32,
   "metadata": {},
   "outputs": [],
   "source": [
    "for i, data in enumerate(final_data):\n",
    "    if data['tags'] == 'NA':\n",
    "        final_data[i]['tags'] = d[data['id']]\n",
    "        final_data[i]['pred'] = 1\n",
    "    else:\n",
    "        final_data[i]['pred'] = 0"
   ]
  },
  {
   "cell_type": "code",
   "execution_count": 34,
   "metadata": {},
   "outputs": [],
   "source": [
    "for i, data in enumerate(final_data):\n",
    "    final_data[i]['description'] = (data['description'] + '. ' + data['title']).strip()"
   ]
  },
  {
   "cell_type": "code",
   "execution_count": 36,
   "metadata": {},
   "outputs": [],
   "source": [
    "with open('final_data.json', 'w') as f:\n",
    "    for i, record in enumerate(final_data):\n",
    "        f.write(json.dumps({'index': {'_id': final_data[i][u'id']}}))\n",
    "        f.write(\"\\n\")\n",
    "        f.write(json.dumps(record))\n",
    "        f.write(\"\\n\")"
   ]
  },
  {
   "cell_type": "code",
   "execution_count": 39,
   "metadata": {},
   "outputs": [],
   "source": [
    "s = ['2019-04-13', '2018-04-13', '2019-12-13', '2019-04-03']"
   ]
  },
  {
   "cell_type": "code",
   "execution_count": 40,
   "metadata": {},
   "outputs": [
    {
     "data": {
      "text/plain": [
       "['2018-04-13', '2019-04-03', '2019-04-13', '2019-12-13']"
      ]
     },
     "execution_count": 40,
     "metadata": {},
     "output_type": "execute_result"
    }
   ],
   "source": [
    "sorted(s)"
   ]
  },
  {
   "cell_type": "code",
   "execution_count": null,
   "metadata": {},
   "outputs": [],
   "source": []
  }
 ],
 "metadata": {
  "kernelspec": {
   "display_name": "Python 2",
   "language": "python",
   "name": "python2"
  },
  "language_info": {
   "codemirror_mode": {
    "name": "ipython",
    "version": 2
   },
   "file_extension": ".py",
   "mimetype": "text/x-python",
   "name": "python",
   "nbconvert_exporter": "python",
   "pygments_lexer": "ipython2",
   "version": "2.7.15"
  }
 },
 "nbformat": 4,
 "nbformat_minor": 2
}
